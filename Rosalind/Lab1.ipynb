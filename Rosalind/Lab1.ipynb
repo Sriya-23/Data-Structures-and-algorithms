{
 "cells": [
  {
   "cell_type": "markdown",
   "metadata": {},
   "source": [
    "## Rosalind"
   ]
  },
  {
   "cell_type": "markdown",
   "metadata": {},
   "source": [
    "### HAMM"
   ]
  },
  {
   "cell_type": "code",
   "execution_count": 19,
   "metadata": {},
   "outputs": [],
   "source": [
    "\n",
    "filename = 'rosalind_hamm.txt'\n",
    "file = open(filename, 'r')\n",
    "seqs_all = file.readlines() \n",
    "seqs = [seq.rstrip('\\n') for seq in seqs_qll]\n",
    "mutations = sum(s1 != s2 for s1,s2 in zip(seqs[0], seqs[1]))\n",
    "print(mutations)"
   ]
  },
  {
   "cell_type": "markdown",
   "metadata": {},
   "source": [
    "### DNA\n"
   ]
  },
  {
   "cell_type": "code",
   "execution_count": 26,
   "metadata": {},
   "outputs": [
    {
     "name": "stdout",
     "output_type": "stream",
     "text": [
      "224 225 236 229\n"
     ]
    }
   ],
   "source": [
    "filename = 'rosalind_dna.txt'\n",
    "\n",
    "file = open(filename, 'r')\n",
    "seq = file.readlines()[0].rstrip('\\n')\n",
    "\n",
    "print(seq.count('A'), seq.count('C'), seq.count('G'), seq.count('T'))"
   ]
  },
  {
   "cell_type": "markdown",
   "metadata": {},
   "source": [
    "### RNA"
   ]
  },
  {
   "cell_type": "code",
   "execution_count": 83,
   "metadata": {},
   "outputs": [
    {
     "name": "stdout",
     "output_type": "stream",
     "text": [
      "UUCUUACAGUGCAACUUACCGACACUACAGUUUAGCUGUCGUUAUGUCAAAUUGCCGGCUUGGGACCCAGCGUUUUCCUGAUUAAUUAAACACUGGGAUUAAGCGAUGGGGGUCAUGCAGGUGGAACUGUCAGGAUGGACUAAGGGAUCGCAUCGACCAGAACGGGUUCGGUCGAGAGAUUACGUAUUAAGGACGUAGUACCGGUUAAAGCGGAAACGCAGACCCUACUGUUAGUUGAUUGCCGCUUCACUUUUCAAUAGGUCCUGGACCUUCCAGGUGCGAGGAGUUACAGUCCAAACAAAGCUGACGUGUCGUUGGCUACUUGCUACGGUCUUGCCCCUUCAAGGCCCGGAAUUUCGCAGCCAUCAGGGUGCUAAACAAGUACGACGAGAGGAAGCUGCAGAACUGAGGCUCCCGAAGUGCUGAUGAACAUCUAUGGACUGUACGGCUUGAACAAGAGCCUAAGAUUCUAACAAAUACGCAAUGCUAAACGAAAAAGUUGCCAAUCAGGUUGCCGUCCCACAUAUACCUAGAGCAGUGAUGAAGAAGAUUGUGCCUGUGCGCCCCAACAUAUUCACUAGAGGUGAGUCUAGUUACCGCUUCUAUUUCUGCAUAAGCUGUCUACGAACUUGGCACAACCUUGGAUUGCGGGAUCUGCGACGCUCCCCCGAGGUGUCAGCGUGGGACUUCACUAAGUCGUUCGCGUGUCCCCUAAUUAGCUUGGCCGAAACCUACGCGUGUAUCCCUCCCCACACCCUCCCGGCUGAUACCUAAAACGAACCUGUCAUACCCGCAACAAUGGAGGUAUCAGGUGCAGCUGAGAAAUUACCGUUGGAUUGCUGUCAAAUUCAAGCUUCGACUAGGUAAUGAGCUCAUCGUAUCGGUAGAGUAGGGCGUCGCAAGACCCCCACCGACUCCUCGAAGAUAUAAAAUGAGACCUGUUCCAGUUUACGGCACGCAAUGUACACGGCAGAAGAGUGUCCCAAAUCCCA\n"
     ]
    }
   ],
   "source": [
    "filename = 'rosalind_rna.txt'\n",
    "file = open(filename, 'r')\n",
    "seq = file.readlines()[0].rstrip('\\n')\n",
    "\n",
    "rna = ''.join([base if  base != 'T' else 'U'  for base in seq])\n",
    "print(rna)"
   ]
  },
  {
   "cell_type": "markdown",
   "metadata": {},
   "source": [
    "### REVC"
   ]
  },
  {
   "cell_type": "code",
   "execution_count": 30,
   "metadata": {},
   "outputs": [
    {
     "name": "stdout",
     "output_type": "stream",
     "text": [
      "ATATATCTCAGCTCCCTCGACTGTTATTAGTTCTTCTTGGGCGTCCACAAATTAGCCCCGGACTGCAGCGCGAACTGAGCCGGTCAAAATGTCACCTCCAGCTCCACCGTAGGATACTCTGCTCTGGGTCTGAAGCGTTGATATAATTTGTTGAAACTGTTTCGGAAGTACGCCGTATCATTGGCTAGTGGTGTAACGTATTGATTAATATAAGCGTAAAGAATTCAGAGTATCTCGCCGCTACCTATTGCGGATCTCGGAGGACTGCTCGTAAGCATATCCGTATGGTGGGTAGAGTCTATCCCATTGCCCATCCGTGATTGGCATGACGTGAGACACTCAGAACCTCCCCAGGCCATCGAGCCCGTGGTTAGCTTGCAAGTTACGCCAATCCAACACGCCGTATTACTGAGTCGGAATGTGCGAGTGCAATATTACATTTGCGAAGTAAACTCGTAGCAGATTAAATTAATGAGTCACTGATACAGACTCAATAGACTCAGATCCGCTGTCCGCGCTCGGTAGCATTGAAAGGACAAACGGGGAGCTCCGCTCCTTCTTCGGTGCATATGTCTGTTTAGAGACTCCGCGCCTAGCCTGTGACTGTGACTGTACCTGCGAGGGCACGGGTAATCTGACCTGCGTGATCAGGGCTCTTCAGCCACAGAGCCCTGGGTGCGTAATGGCTGAATCGGTCATTGTATCCGTTCGTTTATGAGGTGTTTCAGTTCCGACGCGACCCGAGGCGACCCCCAAGGGACTGAGCTCCGTTAATTACACAGACGCCCGATAACAGCTCAATAAAGCTAAGGCGCTACCACCTCGACGGTTCGTTCACGTCACTACGCCGCAAACTAGGACAAAGCGTGGTCACCGAGAAGTACTAAGTTTAGCAGAACGCCGAACATGACGTTATAAAGCTGTACGGGTCTCTACGTGCGGCGTATCCACACTGCTCCCCTGAGCACCCTTCGACT\n"
     ]
    }
   ],
   "source": [
    "filename = 'rosalind_revc.txt'\n",
    "file = open(filename, 'r')\n",
    "seq = file.readlines()[0].rstrip('\\n')\n",
    "complementary_dict = { 'A': 'T', 'G': 'C', 'C' : 'G', 'T': 'A'}\n",
    "complementary = ''.join([complementary_dict[base] for base in seq[::-1]])\n",
    "print(complementary)"
   ]
  },
  {
   "cell_type": "markdown",
   "metadata": {},
   "source": [
    "### GC"
   ]
  },
  {
   "cell_type": "code",
   "execution_count": 82,
   "metadata": {},
   "outputs": [
    {
     "name": "stdout",
     "output_type": "stream",
     "text": [
      "Rosalind_4179\n",
      "52.01465201465202\n"
     ]
    }
   ],
   "source": [
    "filename = 'rosalind_gc.txt'\n",
    "file = open(filename, 'r')\n",
    "lines = file.readlines()\n",
    "\n",
    "ids = [ID.rstrip('\\n')[1:] for ID in lines if '>' in ID]\n",
    "seqs = []\n",
    "seq =''\n",
    "\n",
    "for idx in range(len(lines)):\n",
    "    line = lines[idx]\n",
    "    if not line.startswith('>') and idx != len(lines) - 1:\n",
    "        seq = seq + line.rstrip('\\n')\n",
    "        \n",
    "    else:\n",
    "        if idx == len(lines) -1:\n",
    "            seq = seq + line\n",
    "            seqs.append(seq)\n",
    "        elif idx != 0:\n",
    "            seqs.append(seq)\n",
    "            seq = ''\n",
    "            continue\n",
    "        \n",
    "        else:\n",
    "            continue\n",
    "\n",
    "GC_content = np.array([(seq.count('G') + seq.count('C'))/len(seq) for seq in seqs])\n",
    "ID_max = ids[np.argmax(GC_content)]\n",
    "print(ID_max)\n",
    "print(max(GC_content)*100)\n",
    "\n"
   ]
  },
  {
   "cell_type": "code",
   "execution_count": null,
   "metadata": {},
   "outputs": [],
   "source": []
  },
  {
   "cell_type": "code",
   "execution_count": null,
   "metadata": {},
   "outputs": [],
   "source": []
  },
  {
   "cell_type": "code",
   "execution_count": null,
   "metadata": {},
   "outputs": [],
   "source": []
  }
 ],
 "metadata": {
  "kernelspec": {
   "display_name": "Python 3",
   "language": "python",
   "name": "python3"
  },
  "language_info": {
   "codemirror_mode": {
    "name": "ipython",
    "version": 3
   },
   "file_extension": ".py",
   "mimetype": "text/x-python",
   "name": "python",
   "nbconvert_exporter": "python",
   "pygments_lexer": "ipython3",
   "version": "3.8.5"
  }
 },
 "nbformat": 4,
 "nbformat_minor": 4
}
