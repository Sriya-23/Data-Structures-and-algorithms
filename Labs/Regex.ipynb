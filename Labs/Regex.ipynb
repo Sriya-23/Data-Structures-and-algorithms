{
 "cells": [
  {
   "cell_type": "code",
   "execution_count": 2,
   "metadata": {},
   "outputs": [],
   "source": [
    "import re"
   ]
  },
  {
   "cell_type": "markdown",
   "metadata": {},
   "source": [
    "\"[str]\" will search for the first occurance of any of the characters in the string.\n",
    "\n",
    "\n",
    "'^' sinside the square brackets looks for the first occurance of the character not in the string.\n",
    "\n",
    "\n",
    "\".\" returns any character it encounters first\n",
    "\n",
    "\n",
    "\"...\" returns any first occurance of 3 characters \n"
   ]
  },
  {
   "cell_type": "code",
   "execution_count": 4,
   "metadata": {},
   "outputs": [
    {
     "data": {
      "text/plain": [
       "'A'"
      ]
     },
     "execution_count": 4,
     "metadata": {},
     "output_type": "execute_result"
    }
   ],
   "source": [
    "string = \"AERT\"\n",
    "m = re.search(\"[ATGC]\", string)\n",
    "m.group(0)"
   ]
  },
  {
   "cell_type": "markdown",
   "metadata": {},
   "source": [
    "the number inside .group() represents the index of the match(there can be multiple matches)\n",
    "m.start() represents the start position of the match. m.span() returns the span of positions of the match"
   ]
  },
  {
   "cell_type": "code",
   "execution_count": 40,
   "metadata": {},
   "outputs": [
    {
     "data": {
      "text/plain": [
       "' used '"
      ]
     },
     "execution_count": 40,
     "metadata": {},
     "output_type": "execute_result"
    }
   ],
   "source": [
    "string = \"I used to have nothing and then I got this - this job, this family - and I was better because of it. \\\n",
    "Even though they're gone, I'm still trying to be better.\"\n",
    "\n",
    "m = re.search('\\s\\w*\\s', string) # ifrst work with space on either side\n",
    "m.group(0)\n"
   ]
  },
  {
   "cell_type": "markdown",
   "metadata": {},
   "source": [
    "Write pattern to match the following\n",
    "\n",
    "1. Sysbio\n",
    "2. I<3Regex\n",
    "3. TGGTGGTGG\n",
    "4. 101100\n",
    "5. Match: man, ban, Not match: can\n"
   ]
  },
  {
   "cell_type": "code",
   "execution_count": 11,
   "metadata": {},
   "outputs": [
    {
     "data": {
      "text/plain": [
       "'b'"
      ]
     },
     "execution_count": 11,
     "metadata": {},
     "output_type": "execute_result"
    }
   ],
   "source": [
    "string = \"Sysbio\"\n",
    "m = re.search(\"[^Sys]\", string)\n",
    "m.group(0)"
   ]
  },
  {
   "cell_type": "code",
   "execution_count": 18,
   "metadata": {},
   "outputs": [
    {
     "name": "stdout",
     "output_type": "stream",
     "text": [
      "I<3Rege\n"
     ]
    },
    {
     "data": {
      "text/plain": [
       "'I<3'"
      ]
     },
     "execution_count": 18,
     "metadata": {},
     "output_type": "execute_result"
    }
   ],
   "source": [
    "string = \"I<3Regex\"\n",
    "m = re.search(\"...\", string)\n",
    "print(re.search(\"[A-Z]<[0-9][A-Z][a-z][a-z][a-z]\", string).group(0))\n",
    "m.group(0)"
   ]
  },
  {
   "cell_type": "code",
   "execution_count": 4,
   "metadata": {},
   "outputs": [
    {
     "name": "stdout",
     "output_type": "stream",
     "text": [
      "TGGTGGTGG\n"
     ]
    }
   ],
   "source": [
    "string = \"TGGTGGTGG\"\n",
    "m = re.search(\"(TGG)*\", string)\n",
    "m.group(0)\n",
    "print(re.search(\"(TGG)*\", string).group(0)) "
   ]
  },
  {
   "cell_type": "code",
   "execution_count": 30,
   "metadata": {},
   "outputs": [
    {
     "name": "stdout",
     "output_type": "stream",
     "text": [
      "\n"
     ]
    },
    {
     "data": {
      "text/plain": [
       "'101'"
      ]
     },
     "execution_count": 30,
     "metadata": {},
     "output_type": "execute_result"
    }
   ],
   "source": [
    "string = \"101100\"\n",
    "m = re.search(\"...\", string)\n",
    "print(re.search(\"[^10]*\", string).group(0))\n",
    "print(re.search(\"[0-9][0-9]11[0-9][0-9]\", string).group(0)) # first two no.s can be anything, 11, next 2 can be anything\n",
    "m.group(0)"
   ]
  },
  {
   "cell_type": "code",
   "execution_count": 37,
   "metadata": {},
   "outputs": [
    {
     "ename": "AttributeError",
     "evalue": "'NoneType' object has no attribute 'group'",
     "output_type": "error",
     "traceback": [
      "\u001b[0;31m---------------------------------------------------------------------------\u001b[0m",
      "\u001b[0;31mAttributeError\u001b[0m                            Traceback (most recent call last)",
      "\u001b[0;32m<ipython-input-37-100e293766c4>\u001b[0m in \u001b[0;36m<module>\u001b[0;34m\u001b[0m\n\u001b[1;32m      1\u001b[0m \u001b[0mstring\u001b[0m \u001b[0;34m=\u001b[0m \u001b[0;34m\"can\"\u001b[0m\u001b[0;34m\u001b[0m\u001b[0;34m\u001b[0m\u001b[0m\n\u001b[0;32m----> 2\u001b[0;31m \u001b[0mprint\u001b[0m\u001b[0;34m(\u001b[0m\u001b[0mre\u001b[0m\u001b[0;34m.\u001b[0m\u001b[0msearch\u001b[0m\u001b[0;34m(\u001b[0m\u001b[0;34m\"[mb]..\"\u001b[0m\u001b[0;34m,\u001b[0m \u001b[0mstring\u001b[0m\u001b[0;34m)\u001b[0m\u001b[0;34m.\u001b[0m\u001b[0mgroup\u001b[0m\u001b[0;34m(\u001b[0m\u001b[0;36m0\u001b[0m\u001b[0;34m)\u001b[0m\u001b[0;34m)\u001b[0m\u001b[0;34m\u001b[0m\u001b[0;34m\u001b[0m\u001b[0m\n\u001b[0m\u001b[1;32m      3\u001b[0m \u001b[0mprint\u001b[0m\u001b[0;34m(\u001b[0m\u001b[0mre\u001b[0m\u001b[0;34m.\u001b[0m\u001b[0msearch\u001b[0m\u001b[0;34m(\u001b[0m\u001b[0;34m\"[^c]..\"\u001b[0m\u001b[0;34m,\u001b[0m \u001b[0mstring\u001b[0m\u001b[0;34m)\u001b[0m\u001b[0;34m.\u001b[0m\u001b[0mgroup\u001b[0m\u001b[0;34m(\u001b[0m\u001b[0;36m0\u001b[0m\u001b[0;34m)\u001b[0m\u001b[0;34m)\u001b[0m\u001b[0;34m\u001b[0m\u001b[0;34m\u001b[0m\u001b[0m\n",
      "\u001b[0;31mAttributeError\u001b[0m: 'NoneType' object has no attribute 'group'"
     ]
    }
   ],
   "source": [
    "string = \"can\"\n",
    "print(re.search(\"[mb]..\", string).group(0))\n",
    "print(re.search(\"[^c]..\", string).group(0))\n"
   ]
  },
  {
   "cell_type": "code",
   "execution_count": 39,
   "metadata": {},
   "outputs": [
    {
     "name": "stdout",
     "output_type": "stream",
     "text": [
      "0\t\n"
     ]
    }
   ],
   "source": [
    "string = '0\\t'\n",
    "print(re.search(\"[0-9]\\\\t\", string).group(0)) # returns any no. followed by a tab #\n",
    "# backslash is used as an escape character\n"
   ]
  },
  {
   "cell_type": "markdown",
   "metadata": {},
   "source": [
    "\\d - any digit\n",
    "\n",
    "\\D - any non digit\n",
    "\n",
    "\\s - any space char\n",
    "\n",
    "\\S - any non-space char\n",
    "\n",
    "\\w - any char considered part of a word\n",
    "\n",
    "\\W - any char not considered of a word\n",
    "\n",
    "^ - start of line\n",
    "\n",
    "$ - end of line\n",
    "\n",
    "\\b - word boundary\n"
   ]
  },
  {
   "cell_type": "code",
   "execution_count": 50,
   "metadata": {},
   "outputs": [
    {
     "name": "stdout",
     "output_type": "stream",
     "text": [
      "TGGTGGTGG\n",
      "T\n",
      "TGGTGGTGG\n",
      "TGGTGGTGG\n"
     ]
    }
   ],
   "source": [
    "string = \"TGGTGGTGG\"\n",
    "print(re.search(\"^T.*$\", string).group(0))\n",
    "\n",
    "print(re.search(\"[A_T]*\", string).group(0)) \n",
    "print(re.search(\"^(TGG)*$\", string).group(0)) \n",
    "print(re.search(\"^(TGG){3,10}$\", string).group(0)) # {} tells us the number of times we want the str inside () occurs\n"
   ]
  },
  {
   "cell_type": "code",
   "execution_count": null,
   "metadata": {},
   "outputs": [],
   "source": []
  },
  {
   "cell_type": "code",
   "execution_count": 12,
   "metadata": {},
   "outputs": [],
   "source": [
    "text = '<p><a href=\"http://www.quackit.com/html/tutorial/html_links.cfm\">Example Link</a></p>'\n",
    "Regex = r'<\\s*(\\w+)'\n",
    "\n",
    "\n"
   ]
  },
  {
   "cell_type": "code",
   "execution_count": 17,
   "metadata": {},
   "outputs": [
    {
     "name": "stdout",
     "output_type": "stream",
     "text": [
      "['<p', '<a']\n",
      "p;\n",
      "p;a;\n"
     ]
    }
   ],
   "source": [
    "import re\n",
    "tags = ''\n",
    "if len(re.findall(Regex, text)) != 0:\n",
    "        words = [word.group(0) for word in re.finditer(Regex,text)]\n",
    "        print(words)\n",
    "        for word in words:\n",
    "            if word[1:] not in tags:\n",
    "                tags = tags+ word[1:] + ';'\n",
    "                print(tags)\n",
    "        "
   ]
  }
 ],
 "metadata": {
  "kernelspec": {
   "display_name": "Python 3",
   "language": "python",
   "name": "python3"
  },
  "language_info": {
   "codemirror_mode": {
    "name": "ipython",
    "version": 3
   },
   "file_extension": ".py",
   "mimetype": "text/x-python",
   "name": "python",
   "nbconvert_exporter": "python",
   "pygments_lexer": "ipython3",
   "version": "3.8.5"
  }
 },
 "nbformat": 4,
 "nbformat_minor": 4
}
