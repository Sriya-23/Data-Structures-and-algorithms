{
 "cells": [
  {
   "cell_type": "code",
   "execution_count": 9,
   "metadata": {},
   "outputs": [
    {
     "name": "stdout",
     "output_type": "stream",
     "text": [
      "None\n"
     ]
    }
   ],
   "source": [
    "def recursive_binary_search(arr, num, low, high):\n",
    "    \n",
    "    pos  =  (high+low)//2\n",
    "    print()\n",
    "    if arr[pos]== num:\n",
    "        return pos\n",
    "            \n",
    "    elif num > arr[pos]:\n",
    "        low = pos + 1\n",
    "                \n",
    "        recursive_binary_search(arr, num, low, high)\n",
    "                \n",
    "    elif num < arr[pos]:\n",
    "        high = pos -1\n",
    "        recursive_binary_search(arr, num, low, high)\n",
    "   \n",
    "    \n",
    "    \n",
    "arr = [1, 2, 3, 4, 7, 9, 11, 14, 16, 17]\n",
    "position = recursive_binary_search(arr , 9,0, len(arr)-1)\n",
    "print(position)"
   ]
  },
  {
   "cell_type": "code",
   "execution_count": null,
   "metadata": {},
   "outputs": [],
   "source": []
  }
 ],
 "metadata": {
  "kernelspec": {
   "display_name": "Python 3",
   "language": "python",
   "name": "python3"
  },
  "language_info": {
   "codemirror_mode": {
    "name": "ipython",
    "version": 3
   },
   "file_extension": ".py",
   "mimetype": "text/x-python",
   "name": "python",
   "nbconvert_exporter": "python",
   "pygments_lexer": "ipython3",
   "version": "3.8.5"
  }
 },
 "nbformat": 4,
 "nbformat_minor": 4
}
