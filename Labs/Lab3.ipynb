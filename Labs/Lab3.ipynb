{
 "cells": [
  {
   "cell_type": "markdown",
   "metadata": {},
   "source": [
    "\n",
    "## Lab 3"
   ]
  },
  {
   "cell_type": "markdown",
   "metadata": {},
   "source": [
    "Q1) Write a Complex class that has real and imaginary components. Add functions that can enable\n",
    "us to print, add, subtract and multiply complex numbers\n"
   ]
  },
  {
   "cell_type": "code",
   "execution_count": 35,
   "metadata": {},
   "outputs": [],
   "source": [
    "class Complex:\n",
    "    \n",
    "    def __init__(self, real, imag):\n",
    "        self._real = real\n",
    "        self._imag = imag\n",
    "        \n",
    "    def __add__(self, other):\n",
    "        return Complex(self._real + other._real, self._imag+other._imag)\n",
    "    \n",
    "    def __subtract__(self, other):\n",
    "        return Complex(self._real-other._real, self._imag, other._imag)\n",
    "    \n",
    "    def __multiply__(self,other):\n",
    "        return Complex(self._real*other._real - self._imag * other._imag, self._real*other._imag + self._imag * other._real)\n",
    "    \n",
    "    def __print__(self):\n",
    "        print(str(self._real) + ' ' + '+' + ' ' + str(self._imag) + 'i')\n",
    "        \n",
    "    def __str__(self):\n",
    "        return str(self._real) + ' ' + '+' + ' ' + str(self._imag) + 'i'\n",
    "        \n"
   ]
  },
  {
   "cell_type": "markdown",
   "metadata": {},
   "source": [
    "Q2) Write a Binary class that can take a list representation of a binary number. Add functions -\n",
    "value, that returns the decimal representation of the binary number."
   ]
  },
  {
   "cell_type": "code",
   "execution_count": 33,
   "metadata": {},
   "outputs": [
    {
     "name": "stdout",
     "output_type": "stream",
     "text": [
      "[0111]_2\n",
      "[0001]_2\n",
      "7\n"
     ]
    }
   ],
   "source": [
    "class Binary:\n",
    "    \n",
    "    def __init__(self, bin_rep):\n",
    "        \n",
    "        self.binary_rep = bin_rep\n",
    "        \n",
    "    def value(self):\n",
    "        \n",
    "        return sum([2**i * self.binary_rep[::-1][i] for i in range(len(self.binary_rep))])\n",
    "        \n",
    "    def __str__(self):\n",
    "        str_rep = [str(bin) for bin in self.binary_rep]\n",
    "        \n",
    "        return '[' + ''.join(str_rep) + ']' + '_2'\n",
    "    \n",
    "b1 = Binary([0, 1, 1, 1])\n",
    "b2 = Binary([0, 0, 0, 1])\n",
    "\n",
    "print(b1)\n",
    "print(b2)\n",
    "print(b1.value())\n",
    "\n",
    "\n"
   ]
  },
  {
   "cell_type": "markdown",
   "metadata": {},
   "source": [
    "Q3) Write a LinearRegression class that can solve a linear regression problem - given X and y.\n",
    "The problem is formulated as X(beta) = y. Add a function fit that returns the value of beta. The\n",
    "solution for beta is beta =  (𝑋T * X)-1/(XT *y). Use numpy"
   ]
  },
  {
   "cell_type": "code",
   "execution_count": 30,
   "metadata": {},
   "outputs": [],
   "source": [
    "import numpy as np\n",
    "\n",
    "class LinearRegression:\n",
    "    \n",
    "    def __init__(self, X, y):\n",
    "        self._X = X\n",
    "        self._y = y\n",
    "        \n",
    "        \n",
    "    def fit(self):\n",
    "        return numpy.linalg.inv(self._X.T @ self._X)/ (self._X.T @ self._y)\n",
    "    "
   ]
  },
  {
   "cell_type": "markdown",
   "metadata": {},
   "source": [
    " Q4) Write a Python class considering the length and width of a rectangle to return its area"
   ]
  },
  {
   "cell_type": "code",
   "execution_count": 36,
   "metadata": {},
   "outputs": [],
   "source": [
    "class Rectangle:\n",
    "    \n",
    "    def __init__(self, length, width):\n",
    "        self._length = length\n",
    "        self._width = width\n",
    "        \n",
    "    def area(self):\n",
    "        return self._length * self._width\n",
    "        "
   ]
  },
  {
   "cell_type": "markdown",
   "metadata": {},
   "source": [
    "Q5) Write a Python program using class to convert a roman number to an integer"
   ]
  },
  {
   "cell_type": "code",
   "execution_count": 47,
   "metadata": {},
   "outputs": [
    {
     "name": "stdout",
     "output_type": "stream",
     "text": [
      "1441\n"
     ]
    }
   ],
   "source": [
    "class RomanNumber:\n",
    "    Romans = {'I': 1, 'IV': 4, 'V': 5, 'IX' : 9, 'X': 10, 'XL': 40, 'X': 50, 'XC': 90, 'C': 100, 'CD': 400, 'D': 500, 'CM': 900, 'M':1000}\n",
    "    \n",
    "    def __init__(self, roman):\n",
    "        \n",
    "        self.Roman_rep = roman\n",
    "        \n",
    "    def Roman_to_num(self):\n",
    "        final_num = 0\n",
    "        i = 0\n",
    "        while True:\n",
    "            if i>= len(self.Roman_rep):\n",
    "                break\n",
    "            elif self.Roman_rep[i:i+2] in self.Romans and i +1 < len(self.Roman_rep):\n",
    "                \n",
    "                final_num += self.Romans[self.Roman_rep[i:i+2]]\n",
    "                i += 2\n",
    "                \n",
    "            else:\n",
    "                final_num += self.Romans[self.Roman_rep[i]]\n",
    "                i += 1\n",
    "        return final_num\n",
    "    \n",
    "    \n",
    "roman1 = RomanNumber('I')  \n",
    "roman2 = RomanNumber('IV')\n",
    "roman3 = RomanNumber('CMDXLI')\n",
    "\n",
    "print(roman3.Roman_to_num())"
   ]
  },
  {
   "cell_type": "markdown",
   "metadata": {},
   "source": [
    "Q6)Write a Python code using class to get the set of three elements having sum to zero from an array\n",
    "of n real numbers"
   ]
  },
  {
   "cell_type": "code",
   "execution_count": 48,
   "metadata": {},
   "outputs": [],
   "source": [
    "class ZeroTriplets:\n",
    "    \n",
    "    def __init__(self, arr):\n",
    "        self.array = arr\n",
    "        \n",
    "    def zero_trips(self):\n",
    "        \n",
    "        triplets = []\n",
    "        \n",
    "        for i in range(0, len(self.array)-2):\n",
    "            for j in range(i + 1, len(self.array)-1):\n",
    "                for k in range(j + 1, len(self.array)):\n",
    "                    triplet = [self.array[i], self.array[j], self.array[k]]\n",
    "                    if sum(triplet) == 0:\n",
    "                        trips.append(triplet)\n",
    "        return triplets\n",
    "    \n",
    "    "
   ]
  },
  {
   "cell_type": "markdown",
   "metadata": {},
   "source": [
    "Q7) Write a class in python to fetch all possible unique subsets from a given set of distinct integers"
   ]
  },
  {
   "cell_type": "code",
   "execution_count": 65,
   "metadata": {},
   "outputs": [
    {
     "name": "stdout",
     "output_type": "stream",
     "text": [
      "[(1,), (2,), (3,), (1, 2), (1, 3), (2, 3)]\n"
     ]
    }
   ],
   "source": [
    "from itertools import combinations, chain\n",
    "import numpy as np\n",
    "\n",
    "class Subsets:\n",
    "    \n",
    "    def __init__(self, arr):\n",
    "        self.array = arr\n",
    "        \n",
    "    def subset_arrs(self):\n",
    "        \n",
    "        subsets = chain.from_iterable([list((combinations(self.array, size))) for size in range(1,len(self.array))])\n",
    "        \n",
    "        \n",
    "        return list(subsets)\n",
    "    \n",
    "subs = Subsets([1,2,3])\n",
    "print(subs.subset_arrs())\n",
    "    \n"
   ]
  },
  {
   "cell_type": "markdown",
   "metadata": {},
   "source": [
    "Q8) Write a Python class to get a pair of elements from a given array whose sum equals a specific\n",
    "target number"
   ]
  },
  {
   "cell_type": "code",
   "execution_count": 49,
   "metadata": {},
   "outputs": [],
   "source": [
    "class TargetNum:\n",
    "    \n",
    "    def __init__(self, arr, target_num):\n",
    "        self.array = arr\n",
    "        self.target_num = target_num\n",
    "        \n",
    "    def num_pairs(self):\n",
    "        \n",
    "        num_pairs = []\n",
    "        \n",
    "        for i in range(0, len(self.array)-1):\n",
    "            for j in range(i + 1, len(self.array)):\n",
    "                pair = [self.array[i], self.array[j]]\n",
    "                if sum(pair) == self.target_num:\n",
    "                    num_pairs.append(pair)\n",
    "        return num_pairs"
   ]
  },
  {
   "cell_type": "code",
   "execution_count": null,
   "metadata": {},
   "outputs": [],
   "source": []
  }
 ],
 "metadata": {
  "kernelspec": {
   "display_name": "Python 3",
   "language": "python",
   "name": "python3"
  },
  "language_info": {
   "codemirror_mode": {
    "name": "ipython",
    "version": 3
   },
   "file_extension": ".py",
   "mimetype": "text/x-python",
   "name": "python",
   "nbconvert_exporter": "python",
   "pygments_lexer": "ipython3",
   "version": "3.8.5"
  }
 },
 "nbformat": 4,
 "nbformat_minor": 4
}
