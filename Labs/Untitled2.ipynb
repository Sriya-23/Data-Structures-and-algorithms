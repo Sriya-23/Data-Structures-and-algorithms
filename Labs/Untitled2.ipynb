{
 "cells": [
  {
   "cell_type": "code",
   "execution_count": null,
   "metadata": {},
   "outputs": [],
   "source": [
    "conda create --name py2 python=2.7\n"
   ]
  },
  {
   "cell_type": "code",
   "execution_count": null,
   "metadata": {},
   "outputs": [],
   "source": [
    "conda activate py2\n"
   ]
  },
  {
   "cell_type": "code",
   "execution_count": null,
   "metadata": {},
   "outputs": [],
   "source": [
    "curl -O https://raw.githubusercontent.com/ialbert/booleannet/master/examples/projects/LGL/LGL-simulation.py\n"
   ]
  },
  {
   "cell_type": "code",
   "execution_count": null,
   "metadata": {},
   "outputs": [],
   "source": [
    "curl -O https://raw.githubusercontent.com/ialbert/booleannet/master/examples/projects/LGL/LGL.txt"
   ]
  },
  {
   "cell_type": "code",
   "execution_count": null,
   "metadata": {},
   "outputs": [],
   "source": [
    "python LGL-simulation.py"
   ]
  },
  {
   "cell_type": "code",
   "execution_count": null,
   "metadata": {},
   "outputs": [],
   "source": [
    "curl -O https://raw.githubusercontent.com/ialbert/booleannet/master/examples/projects/LGL/LGL-plot.py\n",
    "    "
   ]
  },
  {
   "cell_type": "code",
   "execution_count": null,
   "metadata": {},
   "outputs": [],
   "source": [
    "curl -O https://raw.githubusercontent.com/ialbert/booleannet/master/examples/projects/LGL/LGL-stimulation.py"
   ]
  },
  {
   "cell_type": "code",
   "execution_count": null,
   "metadata": {},
   "outputs": [],
   "source": [
    "python LGL-stimulation.py"
   ]
  },
  {
   "cell_type": "code",
   "execution_count": null,
   "metadata": {},
   "outputs": [],
   "source": [
    "python LGL-plot.py"
   ]
  },
  {
   "cell_type": "code",
   "execution_count": null,
   "metadata": {},
   "outputs": [],
   "source": [
    "\"\"\"\n",
    "Bordetella Bronchiseptica  simulation\n",
    "Takes about 30 seconds to run\n",
    "\"\"\"\n",
    "import boolean2\n",
    "from boolean2 import Model, util \n",
    "from boolean2.plde import helper\n",
    "\n",
    "\n",
    "# the overrides.py module contains all node overrides\n",
    "import overrides\n",
    "\n",
    "# setting up simulation parameters\n",
    "FULLT = 50\n",
    "STEPS = FULLT*50\n",
    "\n",
    "#\n",
    "# the helper functions allow for easy parameter extraction from a csv files\n",
    "#\n",
    "\n",
    "# parameters for concentration, decay and treshold for various nodes\n",
    "CONC_PARAMS = helper.read_parameters( 'Bb-concentration.csv' )\n",
    "\n",
    "# parameters for compartment ratios and fluctuations\n",
    "COMP_PARAMS = helper.read_parameters( 'Bb-compartmental.csv' )\n",
    "\n",
    "# use data from the sixth row (it is zero based counting!) in the file\n",
    "CONC = CONC_PARAMS[5]\n",
    "COMP = COMP_PARAMS[5]\n",
    "\n",
    "# helper function that Binds the local override to active COMP parameter\n",
    "def local_override( node, indexer, tokens ):\n",
    "    return overrides.override( node, indexer, tokens, COMP )\n",
    "\n",
    "#\n",
    "# there will be two models, one for WT and the other for a BC knockout\n",
    "#\n",
    "wt_text = file('Bb.txt').read()\n",
    "bc_text = boolean2.modify_states( text=wt_text, turnoff= [ \"BC\"  ] )\n",
    "\n",
    "model1 = Model( text=wt_text, mode='plde' )\n",
    "model2 = Model( text=bc_text, mode='plde' )\n",
    "\n",
    "model1.OVERRIDE = local_override\n",
    "model2.OVERRIDE = local_override\n",
    "\n",
    "model1.initialize( missing = helper.initializer( CONC )  )\n",
    "model2.initialize( missing = helper.initializer( CONC )  )\n",
    "\n",
    "# see localdefs for all function definitions\n",
    "model1.iterate( fullt=FULLT, steps=STEPS, localdefs='localdefs' )\n",
    "model2.iterate( fullt=FULLT, steps=STEPS, localdefs='localdefs' )\n",
    "\n",
    "# saves the simulation resutls into a file\n",
    "data = [ model1.data, model2.data, model1.t ]\n",
    "\n",
    "# it is a binary save ( pickle )\n",
    "util.bsave(data, 'Bb-run.bin' )"
   ]
  },
  {
   "cell_type": "code",
   "execution_count": null,
   "metadata": {},
   "outputs": [],
   "source": [
    "\"\"\"\n",
    "Bordetella Bronchiseptica  simulation\n",
    "- plotting the results\n",
    "\"\"\"\n",
    "\n",
    "from pylab import *\n",
    "from boolean2 import util\n",
    "\n",
    "def skip( data, step=10):\n",
    "    \"Takes every Nth point from a list or dictionary values\"\n",
    "    if type(data) == type([]):\n",
    "        return data[::step]\n",
    "    \n",
    "    out = dict()\n",
    "    for key, values in list(data.items()):\n",
    "        values = values[::step]\n",
    "        out[key] = values\n",
    "    return out\n",
    "\n",
    "def make_plot():\n",
    "    run1, run2, t = util.bload( 'Bb-run.bin' )\n",
    "    \n",
    "    # take every 10th point\n",
    "    step = 20\n",
    "    run1 = skip(run1, step=step)\n",
    "    run2 = skip(run2, step=step)\n",
    "    t = skip(t, step=step)\n",
    "\n",
    "    nodes = \"EC PIC C PH IL12I IL12II\".split()\n",
    "    \n",
    "    subplot(121)\n",
    "\n",
    "    # drawing these first so that the symbols are under the other ones\n",
    "    p1 = plot(t, run2['EC'], 'r^-', ms=7 )\n",
    "    p2 = plot(t, run2['PIC'], 'r^-', ms=7 )\n",
    "    \n",
    "    p7 = plot(t, run1['EC'], 'b.-', ms=5 )\n",
    "    p8 = plot(t, run1['PIC'], 'b--', ms=5 )\n",
    "    \n",
    "    xlabel( 'Time' )\n",
    "    ylabel( 'Concentration' )\n",
    "    title ( 'Innate Immune Response' )\n",
    "    legend( [p1, p2, p7, p8], 'DEL-EC DEL-PIC WT-EC WT-PIC'.split(), loc='best')\n",
    "    \n",
    "    subplot(122)\n",
    "   \n",
    "    p3 = plot(t, run2['C'], 'r^-', ms=7 )\n",
    "    p4 = plot(t, run2['PH'], 'ro-', ms=7 )\n",
    "    p5 = plot(t, run2['IL12I'], 'r.-', ms=7 )\n",
    "    p6 = plot(t, run2['IL12II'], 'rs-', ms=7 )\n",
    "    \n",
    "    p9 = plot(t, run1['C'], 'bo-', ms=5 )\n",
    "    p10 = plot(t, run1['PH'] , 'bD-', ms=5 )\n",
    "    p11 = plot(t, run1['IL12I'], 'b.-', ms=5 )\n",
    "    p12 = plot(t, run1['IL12II'], 'b^-', ms=5 )\n",
    "    \n",
    "    xlabel( 'Time' )\n",
    "    ylabel( 'Concentration' )\n",
    "    title ( 'Adaptive Immune Response' )\n",
    "    legend( [p3, p4, p5, p6, p9, p10, p11, p12], 'DEL-C DEL-PH DEL-IL12I DEL-IL12II WT-C WT-PH WT-IL12I WT-IL12II'.split(), loc='best')\n",
    "    \n",
    "if __name__ == '__main__':\n",
    "    figure(num = None, figsize=(14, 7), dpi=80, facecolor='w', edgecolor='k')\n",
    "    make_plot()\n",
    "    savefig('Figure3.png')\n",
    "    show()"
   ]
  },
  {
   "cell_type": "code",
   "execution_count": null,
   "metadata": {},
   "outputs": [],
   "source": []
  }
 ],
 "metadata": {
  "kernelspec": {
   "display_name": "Python 3",
   "language": "python",
   "name": "python3"
  },
  "language_info": {
   "codemirror_mode": {
    "name": "ipython",
    "version": 3
   },
   "file_extension": ".py",
   "mimetype": "text/x-python",
   "name": "python",
   "nbconvert_exporter": "python",
   "pygments_lexer": "ipython3",
   "version": "3.8.5"
  }
 },
 "nbformat": 4,
 "nbformat_minor": 4
}
