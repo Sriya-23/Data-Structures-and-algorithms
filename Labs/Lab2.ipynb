{
 "cells": [
  {
   "cell_type": "markdown",
   "metadata": {},
   "source": [
    "## Lab 2"
   ]
  },
  {
   "cell_type": "markdown",
   "metadata": {},
   "source": [
    "Q1) Write a python code (using a function) to search a given element in a given array and\n",
    "return its position, implementing\n",
    "\n",
    "a. linear search\n",
    "\n",
    "b. iterative binary search\n",
    "\n",
    "c. recursive binary search"
   ]
  },
  {
   "cell_type": "code",
   "execution_count": null,
   "metadata": {},
   "outputs": [],
   "source": [
    "def linear_search(arr, num):\n",
    "    '''find number in array using linear search'''\n",
    "    for pos in range(len(arr)):\n",
    "        if num == arr[pos]:\n",
    "            return pos\n",
    "    return 'Not in array'\n",
    "\n",
    "def iterative_binary_search(arr, num):\n",
    "    '''find number in array using iterative binary search'''\n",
    "    \n",
    "    \n",
    "    exit = 0\n",
    "    \n",
    "    low , high = 0, len(arr) - 1\n",
    "    if num in arr:\n",
    "        while exit == 0:\n",
    "            pos = low + (high-low)//2\n",
    "            print(high, low, pos)\n",
    "            if num == arr[pos]:\n",
    "                exit = 1\n",
    "                return pos\n",
    "            \n",
    "            elif num > arr[pos]:\n",
    "                low = pos + 1\n",
    "                \n",
    "            elif num < arr[pos]:\n",
    "                high = pos -1 \n",
    "    return 'Not in array'\n",
    "\n",
    "def recursive_binary_search(arr, num, low, high):\n",
    "    pos  =  low + (high-low)//2\n",
    "    low , high = 0, len(arr) - 1\n",
    "    if num in arr:\n",
    "        \n",
    "        pos = low + (high-low)//2\n",
    "        print(high, low, pos)\n",
    "        if num == arr[pos]:\n",
    "            return pos \n",
    "        elif num > arr[pos]:\n",
    "            low = pos + 1\n",
    "            recusrsive_binary_search(arr, num, low, high)\n",
    "                \n",
    "        elif num < arr[pos]:\n",
    "            high = pos -1\n",
    "            recusrsive_binary_search(arr, num, low, high)\n",
    "    return 'Not in array'\n",
    "    \n",
    "    \n",
    "\n",
    "print(iterative_binary_search([1, 2, 3, 4, 7, 9, 11, 14, 16, 17], 17))\n",
    "\n",
    "        \n",
    "    \n",
    "    "
   ]
  },
  {
   "cell_type": "markdown",
   "metadata": {},
   "source": [
    "Q2) Write a python code to find the smallest missing element in a positive sorted array\n",
    "\n",
    "Input: 1, 2, 3, 5, 6, 9, 11, 15\n",
    "\n",
    "Output: The smallest missing element is 0"
   ]
  },
  {
   "cell_type": "code",
   "execution_count": null,
   "metadata": {},
   "outputs": [],
   "source": [
    "def smallest_int(arr):\n",
    "    i = 0\n",
    "    \n",
    "    while True:\n",
    "        if i not in arr:\n",
    "            return i\n",
    "        \n",
    "        elif i in arr:\n",
    "            i+= 1\n",
    "            continue\n",
    "            \n",
    "            \n",
    "        \n",
    "print(smallest_int([0,1,2,3,4,6,7]))\n",
    "        "
   ]
  },
  {
   "cell_type": "markdown",
   "metadata": {},
   "source": [
    "Q3) Write a python code to find k closest neighbors of the given element in a sorted array\n",
    "\n",
    "Input: [2, 3, 4, 5, 6, 7], k = 3, a = 5\n",
    "\n",
    "Output: [3, 4, 6]\n",
    "\n",
    "Rule:\n",
    "The integer ‘a’ may or may not be present in the input array. If ‘a’ is less than or equal to\n",
    "the first element in the input array, return the first k elements. Similarly, if ‘a’ is more\n",
    "than or equal to the last element in the input array, return the last k elements. The\n",
    "returned elements should be in the same order as present in the input array. Consider the\n",
    "smaller element in the case of odd equally distant neighbors\n"
   ]
  },
  {
   "cell_type": "code",
   "execution_count": null,
   "metadata": {},
   "outputs": [],
   "source": []
  },
  {
   "cell_type": "code",
   "execution_count": null,
   "metadata": {},
   "outputs": [],
   "source": [
    "input_array = []\n",
    "a = 0\n",
    "\n",
    "def k_nearest_neighbours(input_arr, a, k):\n",
    "    '''find the k nearsent neighbour of a given element in an array'''\n",
    "    \n",
    "    \n",
    "    if a <= input_arr[0]:\n",
    "        return input_arr[:k]\n",
    "        \n",
    "    elif a >= input_arr[-1]:\n",
    "        return input_arr[-k:]\n",
    "    \n",
    "    else:\n",
    "        if a in input_arr:\n",
    "            \n",
    "            \n",
    "            neighbours = input_arr[input_arr.index(a)- k//2:input_arr.index(a)] + input_arr[input_arr.index(a)+1: input_arr.index(a)+1 + k//2]\n",
    "            if k%2 ==1 and input_arr.index(a)- k//2:\n",
    "                \n",
    "        else:\n",
    "            \n",
    "            \n",
    "        "
   ]
  },
  {
   "cell_type": "markdown",
   "metadata": {},
   "source": [
    "Q4) The Tokyo Olympics happened recently. And with it, India had bagged 7 Olympics medals.\n",
    "Now all Indians are so happy that they want to remember “7” always. So, every time they\n",
    "come across a number (less than 5 digits), they want 7 or its multiple as a part of it. In\n",
    "such cases, people will chant as ‘Chak de India!’ or else ‘More in 2023’. Write a python\n",
    "code implementing this situation.\n",
    "\n",
    "Input: 121 Output: Chak de India! (Because 21 is in the number, multiple of 7)\n",
    "\n",
    "Input: 7999 Output: Chak de India! (Because 7 is in the number)\n",
    "\n",
    "Input: 999 Output: More in 2021 (No 7 or its multiple)"
   ]
  },
  {
   "cell_type": "code",
   "execution_count": null,
   "metadata": {},
   "outputs": [],
   "source": [
    "def olympics_num(input_num):\n",
    "    if input_num < 10000:\n",
    "        \n",
    "        if '7' in str(input_num) or input_num%7 == 0:\n",
    "            return 'Chak de India!'\n",
    "        elif any(int(str(input_num)[idx: idx + 2]) % 7 == 0  for idx in range(len(str(input_num)) -1)):\n",
    "            return 'Chak de India!'\n",
    "        elif any(int(str(input_num)[idx: idx + 3]) % 7 == 0  for idx in range(len(str(input_num)) -2)):\n",
    "            return 'Chak de India!'\n",
    "        elif any(int(str(input_num)[idx: idx + 4]) % 7 == 0  for idx in range(len(str(input_num)) -4)):\n",
    "            return 'Chak de India!' \n",
    "        else:\n",
    "            return 'More in 2023'\n",
    "\n",
    "print(olympics_num(121))\n",
    "                 \n",
    "print(olympics_num(7999))\n",
    "                 \n",
    "print(olympics_num(999))\n",
    "\n",
    "print(olympics_num(9343))\n",
    "\n",
    "print(olympics_num(3193))\n",
    "                 \n",
    "            \n",
    "\n",
    "    "
   ]
  },
  {
   "cell_type": "code",
   "execution_count": null,
   "metadata": {},
   "outputs": [],
   "source": []
  }
 ],
 "metadata": {
  "kernelspec": {
   "display_name": "Python 3",
   "language": "python",
   "name": "python3"
  },
  "language_info": {
   "codemirror_mode": {
    "name": "ipython",
    "version": 3
   },
   "file_extension": ".py",
   "mimetype": "text/x-python",
   "name": "python",
   "nbconvert_exporter": "python",
   "pygments_lexer": "ipython3",
   "version": "3.8.5"
  }
 },
 "nbformat": 4,
 "nbformat_minor": 4
}
